{
 "cells": [
  {
   "cell_type": "markdown",
   "metadata": {
    "collapsed": false,
    "pycharm": {
     "name": "#%% md\n"
    }
   },
   "source": [
    "Convert a list of ply files one by one into a corresponding set of .npy files"
   ]
  },
  {
   "cell_type": "code",
   "execution_count": 1,
   "metadata": {
    "collapsed": true
   },
   "outputs": [],
   "source": [
    "import DataProcessing\n",
    "from pathlib import Path\n",
    "import numpy as np\n",
    "from tqdm import tqdm"
   ]
  },
  {
   "cell_type": "code",
   "execution_count": 2,
   "metadata": {
    "collapsed": false,
    "pycharm": {
     "name": "#%%\n"
    }
   },
   "outputs": [],
   "source": [
    "npy_file_list = [\n",
    "    Path('PatrickData/Church/m1_clean.npy'),\n",
    "    Path('PatrickData/Church/m2_clean.npy'),\n",
    "    Path('PatrickData/Church/m3_clean.npy'),\n",
    "    Path('PatrickData/Church/m4_clean.npy'),\n",
    "    Path('PatrickData/Church/m5_clean.npy'),\n",
    "    Path('PatrickData/Church/m6_clean.npy'),\n",
    "    Path('PatrickData/Church/m7_clean.npy'),\n",
    "    Path('PatrickData/Church/m8_clean.npy'),\n",
    "    Path('PatrickData/Church/m9_clean.npy'),\n",
    "    Path('PatrickData/Church/m10_clean.npy'),\n",
    "    Path('PatrickData/Church/m11_clean.npy'),\n",
    "    Path('PatrickData/Church/m12_clean.npy'),\n",
    "    Path('PatrickData/Church/m26_clean.npy'),\n",
    "    Path('PatrickData/Church/m27_clean.npy'),\n",
    "    Path('PatrickData/Church/m28_clean.npy'),\n",
    "\n",
    "    Path('PatrickData/SongoMnara/10.33.47.npy'),\n",
    "    Path('PatrickData/SongoMnara/10.37.24.npy'),\n",
    "    Path('PatrickData/SongoMnara/10.41.05.npy'),\n",
    "    Path('PatrickData/SongoMnara/10.45.01.npy'),\n",
    "    Path('PatrickData/SongoMnara/10.49.56.npy'),\n",
    "    Path('PatrickData/SongoMnara/10.54.11.npy'),\n",
    "    Path('PatrickData/SongoMnara/10.58.22.npy'),\n",
    "    Path('PatrickData/SongoMnara/11.02.29.npy'),\n",
    "    Path('PatrickData/SongoMnara/11.06.17.npy'),\n",
    "    Path('PatrickData/SongoMnara/11.10.10.npy'),\n",
    "]\n",
    "ply_file_list = [\n",
    "    Path('PatrickData/Church/m1_clean.ply'),\n",
    "    Path('PatrickData/Church/m2_clean.ply'),\n",
    "    Path('PatrickData/Church/m3_clean.ply'),\n",
    "    Path('PatrickData/Church/m4_clean.ply'),\n",
    "    Path('PatrickData/Church/m5_clean.ply'),\n",
    "    Path('PatrickData/Church/m6_clean.ply'),\n",
    "    Path('PatrickData/Church/m7_clean.ply'),\n",
    "    Path('PatrickData/Church/m8_clean.ply'),\n",
    "    Path('PatrickData/Church/m9_clean.ply'),\n",
    "    Path('PatrickData/Church/m10_clean.ply'),\n",
    "    Path('PatrickData/Church/m11_clean.ply'),\n",
    "    Path('PatrickData/Church/m12_clean.ply'),\n",
    "    Path('PatrickData/Church/m26_clean.ply'),\n",
    "    Path('PatrickData/Church/m27_clean.ply'),\n",
    "    Path('PatrickData/Church/m28_clean.ply'),\n",
    "\n",
    "    Path('PatrickData/SongoMnara/10.33.47.ply'),\n",
    "    Path('PatrickData/SongoMnara/10.37.24.ply'),\n",
    "    Path('PatrickData/SongoMnara/10.41.05.ply'),\n",
    "    Path('PatrickData/SongoMnara/10.45.01.ply'),\n",
    "    Path('PatrickData/SongoMnara/10.49.56.ply'),\n",
    "    Path('PatrickData/SongoMnara/10.54.11.ply'),\n",
    "    Path('PatrickData/SongoMnara/10.58.22.ply'),\n",
    "    Path('PatrickData/SongoMnara/11.02.29.ply'),\n",
    "    Path('PatrickData/SongoMnara/11.06.17.ply'),\n",
    "    Path('PatrickData/SongoMnara/11.10.10.ply'),\n",
    "]"
   ]
  },
  {
   "cell_type": "code",
   "execution_count": 10,
   "metadata": {
    "collapsed": false,
    "pycharm": {
     "name": "#%%\n"
    }
   },
   "outputs": [
    {
     "name": "stderr",
     "output_type": "stream",
     "text": [
      "  0%|          | 0/25 [00:00<?, ?it/s]"
     ]
    },
    {
     "name": "stdout",
     "output_type": "stream",
     "text": [
      "Loading PatrickData/Church/m1_clean.ply\n"
     ]
    },
    {
     "name": "stderr",
     "output_type": "stream",
     "text": [
      "  4%|▍         | 1/25 [00:00<00:11,  2.11it/s]"
     ]
    },
    {
     "name": "stdout",
     "output_type": "stream",
     "text": [
      "Loading PatrickData/Church/m2_clean.ply\n"
     ]
    },
    {
     "name": "stderr",
     "output_type": "stream",
     "text": [
      "  8%|▊         | 2/25 [00:01<00:11,  1.92it/s]"
     ]
    },
    {
     "name": "stdout",
     "output_type": "stream",
     "text": [
      "Loading PatrickData/Church/m3_clean.ply\n"
     ]
    },
    {
     "name": "stderr",
     "output_type": "stream",
     "text": [
      " 12%|█▏        | 3/25 [00:01<00:12,  1.77it/s]"
     ]
    },
    {
     "name": "stdout",
     "output_type": "stream",
     "text": [
      "Loading PatrickData/Church/m4_clean.ply\n"
     ]
    },
    {
     "name": "stderr",
     "output_type": "stream",
     "text": [
      " 16%|█▌        | 4/25 [00:02<00:12,  1.72it/s]"
     ]
    },
    {
     "name": "stdout",
     "output_type": "stream",
     "text": [
      "Loading PatrickData/Church/m5_clean.ply\n"
     ]
    },
    {
     "name": "stderr",
     "output_type": "stream",
     "text": [
      " 20%|██        | 5/25 [00:02<00:11,  1.69it/s]"
     ]
    },
    {
     "name": "stdout",
     "output_type": "stream",
     "text": [
      "Loading PatrickData/Church/m6_clean.ply\n"
     ]
    },
    {
     "name": "stderr",
     "output_type": "stream",
     "text": [
      " 24%|██▍       | 6/25 [00:03<00:11,  1.72it/s]"
     ]
    },
    {
     "name": "stdout",
     "output_type": "stream",
     "text": [
      "Loading PatrickData/Church/m7_clean.ply\n"
     ]
    },
    {
     "name": "stderr",
     "output_type": "stream",
     "text": [
      " 28%|██▊       | 7/25 [00:04<00:10,  1.71it/s]"
     ]
    },
    {
     "name": "stdout",
     "output_type": "stream",
     "text": [
      "Loading PatrickData/Church/m8_clean.ply\n"
     ]
    },
    {
     "name": "stderr",
     "output_type": "stream",
     "text": [
      " 32%|███▏      | 8/25 [00:04<00:09,  1.71it/s]"
     ]
    },
    {
     "name": "stdout",
     "output_type": "stream",
     "text": [
      "Loading PatrickData/Church/m9_clean.ply\n"
     ]
    },
    {
     "name": "stderr",
     "output_type": "stream",
     "text": [
      " 36%|███▌      | 9/25 [00:05<00:09,  1.71it/s]"
     ]
    },
    {
     "name": "stdout",
     "output_type": "stream",
     "text": [
      "Loading PatrickData/Church/m10_clean.ply\n"
     ]
    },
    {
     "name": "stderr",
     "output_type": "stream",
     "text": [
      " 40%|████      | 10/25 [00:05<00:08,  1.73it/s]"
     ]
    },
    {
     "name": "stdout",
     "output_type": "stream",
     "text": [
      "Loading PatrickData/Church/m11_clean.ply\n"
     ]
    },
    {
     "name": "stderr",
     "output_type": "stream",
     "text": [
      " 44%|████▍     | 11/25 [00:06<00:08,  1.73it/s]"
     ]
    },
    {
     "name": "stdout",
     "output_type": "stream",
     "text": [
      "Loading PatrickData/Church/m12_clean.ply\n"
     ]
    },
    {
     "name": "stderr",
     "output_type": "stream",
     "text": [
      " 48%|████▊     | 12/25 [00:06<00:07,  1.76it/s]"
     ]
    },
    {
     "name": "stdout",
     "output_type": "stream",
     "text": [
      "Loading PatrickData/Church/m26_clean.ply\n"
     ]
    },
    {
     "name": "stderr",
     "output_type": "stream",
     "text": [
      " 52%|█████▏    | 13/25 [00:07<00:07,  1.65it/s]"
     ]
    },
    {
     "name": "stdout",
     "output_type": "stream",
     "text": [
      "Loading PatrickData/Church/m27_clean.ply\n"
     ]
    },
    {
     "name": "stderr",
     "output_type": "stream",
     "text": [
      " 60%|██████    | 15/25 [00:15<00:20,  2.05s/it]"
     ]
    },
    {
     "name": "stdout",
     "output_type": "stream",
     "text": [
      "Loading PatrickData/Church/m28_clean.ply\n",
      "Loading PatrickData/SongoMnara/10.33.47.ply\n"
     ]
    },
    {
     "name": "stderr",
     "output_type": "stream",
     "text": [
      " 64%|██████▍   | 16/25 [00:18<00:19,  2.20s/it]"
     ]
    },
    {
     "name": "stdout",
     "output_type": "stream",
     "text": [
      "Loading PatrickData/SongoMnara/10.37.24.ply\n"
     ]
    },
    {
     "name": "stderr",
     "output_type": "stream",
     "text": [
      " 68%|██████▊   | 17/25 [00:21<00:21,  2.63s/it]"
     ]
    },
    {
     "name": "stdout",
     "output_type": "stream",
     "text": [
      "Loading PatrickData/SongoMnara/10.41.05.ply\n"
     ]
    },
    {
     "name": "stderr",
     "output_type": "stream",
     "text": [
      " 72%|███████▏  | 18/25 [00:28<00:26,  3.82s/it]"
     ]
    },
    {
     "name": "stdout",
     "output_type": "stream",
     "text": [
      "Loading PatrickData/SongoMnara/10.45.01.ply\n"
     ]
    },
    {
     "name": "stderr",
     "output_type": "stream",
     "text": [
      " 76%|███████▌  | 19/25 [00:32<00:22,  3.78s/it]"
     ]
    },
    {
     "name": "stdout",
     "output_type": "stream",
     "text": [
      "Loading PatrickData/SongoMnara/10.49.56.ply\n"
     ]
    },
    {
     "name": "stderr",
     "output_type": "stream",
     "text": [
      " 80%|████████  | 20/25 [00:40<00:25,  5.05s/it]"
     ]
    },
    {
     "name": "stdout",
     "output_type": "stream",
     "text": [
      "Loading PatrickData/SongoMnara/10.54.11.ply\n"
     ]
    },
    {
     "name": "stderr",
     "output_type": "stream",
     "text": [
      " 84%|████████▍ | 21/25 [00:42<00:17,  4.25s/it]"
     ]
    },
    {
     "name": "stdout",
     "output_type": "stream",
     "text": [
      "Loading PatrickData/SongoMnara/10.58.22.ply\n"
     ]
    },
    {
     "name": "stderr",
     "output_type": "stream",
     "text": [
      " 88%|████████▊ | 22/25 [00:46<00:12,  4.12s/it]"
     ]
    },
    {
     "name": "stdout",
     "output_type": "stream",
     "text": [
      "Loading PatrickData/SongoMnara/11.02.29.ply\n"
     ]
    },
    {
     "name": "stderr",
     "output_type": "stream",
     "text": [
      " 92%|█████████▏| 23/25 [00:55<00:11,  5.54s/it]"
     ]
    },
    {
     "name": "stdout",
     "output_type": "stream",
     "text": [
      "Loading PatrickData/SongoMnara/11.06.17.ply\n"
     ]
    },
    {
     "name": "stderr",
     "output_type": "stream",
     "text": [
      " 96%|█████████▌| 24/25 [00:58<00:04,  4.71s/it]"
     ]
    },
    {
     "name": "stdout",
     "output_type": "stream",
     "text": [
      "Loading PatrickData/SongoMnara/11.10.10.ply\n"
     ]
    },
    {
     "name": "stderr",
     "output_type": "stream",
     "text": [
      "100%|██████████| 25/25 [01:02<00:00,  2.49s/it]\n"
     ]
    }
   ],
   "source": [
    "for i in tqdm(range(len(ply_file_list))):\n",
    "    pcd = DataProcessing.load_from_ply(ply_file_list[i])\n",
    "    xyz, intensity, rgb = DataProcessing.convert_to_arrays(pcd)\n",
    "    segment_data = np.hstack((xyz, intensity[..., None],rgb[:, 0, None]))\n",
    "    np.save(npy_file_list[i], segment_data )"
   ]
  }
 ],
 "metadata": {
  "kernelspec": {
   "display_name": "Python 3",
   "language": "python",
   "name": "python3"
  },
  "language_info": {
   "codemirror_mode": {
    "name": "ipython",
    "version": 3
   },
   "file_extension": ".py",
   "mimetype": "text/x-python",
   "name": "python",
   "nbconvert_exporter": "python",
   "pygments_lexer": "ipython3",
   "version": "3.7.10"
  }
 },
 "nbformat": 4,
 "nbformat_minor": 0
}
