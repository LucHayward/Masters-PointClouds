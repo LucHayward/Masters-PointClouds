{
 "cells": [
  {
   "cell_type": "code",
   "execution_count": 2,
   "metadata": {
    "collapsed": true
   },
   "outputs": [],
   "source": [
    "import DataProcessing\n",
    "from pathlib import Path\n",
    "import numpy as np\n",
    "from tqdm import tqdm\n",
    "import pptk\n",
    "import math\n"
   ]
  },
  {
   "cell_type": "code",
   "execution_count": 3,
   "metadata": {},
   "outputs": [
    {
     "name": "stdout",
     "output_type": "stream",
     "text": [
      "File: 10.33.47.ptx\n",
      "Rows: 5056\n",
      "Cols: 2150\n",
      "Total points: 10870400\n",
      "\n"
     ]
    }
   ],
   "source": [
    "pcd_tup = DataProcessing.load_from_ptx([Path('../../PatrickData/SongoMnara/10.33.47.ptx')])"
   ]
  },
  {
   "cell_type": "code",
   "execution_count": 4,
   "metadata": {},
   "outputs": [
    {
     "data": {
      "text/plain": [
       "(9015171, 7)"
      ]
     },
     "execution_count": 4,
     "metadata": {},
     "output_type": "execute_result"
    }
   ],
   "source": [
    "pcd = np.hstack((pcd_tup[0], pcd_tup[1][:, None], pcd_tup[2][:, 1:], pcd_tup[2][:, 0][:, None]))\n",
    "pcd.shape"
   ]
  },
  {
   "cell_type": "code",
   "execution_count": 5,
   "metadata": {},
   "outputs": [],
   "source": [
    "# pcd_dtype = [('x', np.float64),('y', np.float64),('z', np.float64),('i', np.float64),('g', np.float64),('b', np.float64),('class', np.float64),]\n",
    "# pcd.dtype = pcd_dtype"
   ]
  },
  {
   "cell_type": "code",
   "execution_count": 6,
   "metadata": {},
   "outputs": [],
   "source": [
    "pcd_copy = pcd.copy()"
   ]
  },
  {
   "cell_type": "code",
   "execution_count": 7,
   "metadata": {},
   "outputs": [],
   "source": [
    "pcd = pcd_copy.copy()"
   ]
  },
  {
   "cell_type": "code",
   "execution_count": 11,
   "metadata": {},
   "outputs": [],
   "source": [
    "split_indices = np.arange(0, pcd.shape[0], pcd.shape[0] // 10)[1:]"
   ]
  },
  {
   "cell_type": "code",
   "execution_count": 1,
   "metadata": {},
   "outputs": [
    {
     "ename": "NameError",
     "evalue": "name 'pcd' is not defined",
     "output_type": "error",
     "traceback": [
      "\u001B[0;31m---------------------------------------------------------------------------\u001B[0m",
      "\u001B[0;31mNameError\u001B[0m                                 Traceback (most recent call last)",
      "\u001B[0;32m/tmp/ipykernel_485894/3303143529.py\u001B[0m in \u001B[0;36m<module>\u001B[0;34m\u001B[0m\n\u001B[0;32m----> 1\u001B[0;31m \u001B[0mpcd\u001B[0m\u001B[0;34m.\u001B[0m\u001B[0msort\u001B[0m\u001B[0;34m(\u001B[0m\u001B[0maxis\u001B[0m\u001B[0;34m=\u001B[0m\u001B[0;36m0\u001B[0m\u001B[0;34m)\u001B[0m\u001B[0;34m\u001B[0m\u001B[0;34m\u001B[0m\u001B[0m\n\u001B[0m\u001B[1;32m      2\u001B[0m \u001B[0mpcd\u001B[0m \u001B[0;34m=\u001B[0m \u001B[0mnp\u001B[0m\u001B[0;34m.\u001B[0m\u001B[0marray_split\u001B[0m\u001B[0;34m(\u001B[0m\u001B[0mpcd\u001B[0m\u001B[0;34m,\u001B[0m \u001B[0msplit_indices\u001B[0m\u001B[0;34m)\u001B[0m\u001B[0;34m\u001B[0m\u001B[0;34m\u001B[0m\u001B[0m\n\u001B[1;32m      3\u001B[0m \u001B[0;34m\u001B[0m\u001B[0m\n",
      "\u001B[0;31mNameError\u001B[0m: name 'pcd' is not defined"
     ]
    }
   ],
   "source": [
    "pcd.view('f8,f8,f8,f8,f8,f8,f8').sort(order=['f0'], axis=0)\n",
    "pcd = np.array_split(pcd, split_indices)"
   ]
  },
  {
   "cell_type": "code",
   "execution_count": 14,
   "metadata": {},
   "outputs": [
    {
     "data": {
      "text/plain": [
       "(901517, 7)"
      ]
     },
     "execution_count": 14,
     "metadata": {},
     "output_type": "execute_result"
    }
   ],
   "source": [
    "pcd[0].shape"
   ]
  },
  {
   "cell_type": "code",
   "execution_count": 15,
   "metadata": {},
   "outputs": [
    {
     "name": "stderr",
     "output_type": "stream",
     "text": [
      "100%|██████████| 11/11 [00:00<00:00, 51.99it/s]\n"
     ]
    }
   ],
   "source": [
    "\n",
    "for i, col in enumerate(tqdm(pcd)):\n",
    "    col = col.view('f8,f8,f8,f8,f8,f8,f8').sort(order=['f1'], axis=1)"
   ]
  },
  {
   "cell_type": "code",
   "execution_count": 16,
   "metadata": {},
   "outputs": [],
   "source": [
    "pcd = np.vstack(pcd)\n",
    "\n",
    "grid_mask = np.repeat(np.arange(0, 10, 1), math.ceil(9015171 / 10))[:pcd.shape[0], None]"
   ]
  },
  {
   "cell_type": "code",
   "execution_count": 73,
   "metadata": {},
   "outputs": [],
   "source": [
    "pcd = np.hstack((pcd, grid_mask))"
   ]
  },
  {
   "cell_type": "code",
   "execution_count": 1,
   "metadata": {},
   "outputs": [],
   "source": [
    "def test_split_grid(num_points=1000, shape=(3, 3,), value_range=100, visualise_pptk=True):\n",
    "    \"\"\"\n",
    "    Generate a cloud of random points and segment it into a grid.\n",
    "    :param num_points: number of points to sample\n",
    "    :param shape: The number of cells in each row/column\n",
    "    :param value_range: xy value upper bound [0,value_range)\n",
    "    :param visualise_pptk: visualise the resulting point grid using pptk\n",
    "    :return:\n",
    "    \"\"\"\n",
    "    points = np.random.randint(0, value_range, (num_points, 3))\n",
    "    points, grid_mask = split_grid(points, shape)\n",
    "\n",
    "    if visualise_pptk:\n",
    "        v = pptk.viewer(points, grid_mask)\n",
    "        v.set(point_size=.1)\n",
    "        v.color_map(DataProcessing.turbo_colormap_data)\n",
    "\n",
    "\n",
    "\n",
    "def split_grid(points, grid_shape):\n",
    "    \"\"\"\n",
    "    Split the points into a grid pattern\n",
    "    :param points: (n,3) array of points (XYZ)\n",
    "    :param grid_shape: (x,y,) tuple of grid shape\n",
    "    :return: modified points array, grid_mask\n",
    "    \"\"\"\n",
    "    # Sort and split array along x-axis\n",
    "    points.view('i8,i8,i8').sort(order=['f0'], axis=0)\n",
    "\n",
    "    total_distances = points[:, :2].max(axis=0) - points[:, :2].min(axis=0)\n",
    "    intervals_x = np.asarray(\n",
    "        [points[:, 0].min(axis=0) + np.ceil(total_distances[0] / grid_shape[0]) * i for i in range(grid_shape[0])][1:])\n",
    "    intervals_y = np.asarray(\n",
    "        [points[:, 1].min(axis=0) + np.ceil(total_distances[1] / grid_shape[1]) * i for i in range(grid_shape[1])][1:])\n",
    "    interval_idxs_x = [DataProcessing.find_nearest_id(points[:, 0], v) for v in intervals_x]\n",
    "\n",
    "    points = np.array_split(points, interval_idxs_x)\n",
    "\n",
    "    # Sort and split resulting columns along y-axis\n",
    "    for i in tqdm(range(len(points))):\n",
    "        col = points[i]\n",
    "        col.view('i8,i8,i8').sort(order=['f1'], axis=0)\n",
    "        interval_idxs_y = [0] + [DataProcessing.find_nearest_id(col[:, 1], v) for v in intervals_y] + [col.shape[0]]\n",
    "        col_grid_mask = np.concatenate(\n",
    "            [np.repeat(i * grid_shape[1] + j, reps - interval_idxs_y[j - 1]) for j, reps in\n",
    "             enumerate(interval_idxs_y[1:], start=1)])\n",
    "        points[i] = np.hstack((col, col_grid_mask[:, None]))\n",
    "\n",
    "    points = np.vstack(points)\n",
    "    return points[:,:-1], points[:,-1]\n"
   ]
  },
  {
   "cell_type": "code",
   "execution_count": null,
   "outputs": [],
   "source": [
    "test_split_grid(1024, (3, 3))\n"
   ],
   "metadata": {
    "collapsed": false,
    "pycharm": {
     "name": "#%%\n"
    }
   }
  }
 ],
 "metadata": {
  "kernelspec": {
   "display_name": "Python 3",
   "language": "python",
   "name": "python3"
  },
  "language_info": {
   "codemirror_mode": {
    "name": "ipython",
    "version": 3
   },
   "file_extension": ".py",
   "mimetype": "text/x-python",
   "name": "python",
   "nbconvert_exporter": "python",
   "pygments_lexer": "ipython3",
   "version": "3.7.10"
  }
 },
 "nbformat": 4,
 "nbformat_minor": 0
}