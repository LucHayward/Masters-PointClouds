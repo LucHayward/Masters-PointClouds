{
 "cells": [
  {
   "cell_type": "code",
   "execution_count": 2,
   "metadata": {
    "collapsed": true
   },
   "outputs": [],
   "source": [
    "import DataProcessing\n",
    "from pathlib import Path\n",
    "import numpy as np\n",
    "from tqdm import tqdm\n",
    "import pptk\n",
    "import math\n"
   ]
  },
  {
   "cell_type": "code",
   "execution_count": 2,
   "metadata": {},
   "outputs": [],
   "source": [
    "# pcd_tup = DataProcessing.load_from_ptx([Path('../../PatrickData/SongoMnara/10.33.47.ptx')])\n",
    "pcd_tup = DataProcessing.load_from_ptx(\n",
    "    [Path('../../PatrickData/SongoMnara/10.37.24.ptx'), Path('../../PatrickData/SongoMnara/10.33.47.ptx')],\n",
    "    return_id_mask=True)\n",
    "pcd_tup, ids = pcd_tup[:-1], np.concatenate(pcd_tup[-1])"
   ]
  },
  {
   "cell_type": "code",
   "execution_count": 4,
   "metadata": {
    "pycharm": {
     "name": "#%%\n"
    }
   },
   "outputs": [
    {
     "data": {
      "text/plain": [
       "(9015171, 7)"
      ]
     },
     "execution_count": 4,
     "metadata": {},
     "output_type": "execute_result"
    }
   ],
   "source": [
    "pcd = np.hstack((pcd_tup[0], pcd_tup[1][:, None], pcd_tup[2][:, 1:], pcd_tup[2][:, 0][:, None]))\n",
    "pcd.shape"
   ]
  },
  {
   "cell_type": "code",
   "execution_count": null,
   "outputs": [],
   "source": [
    "# v = DataProcessing.custom_pptk(pcd[:, :3], pcd[:, 4:])\n",
    "v = DataProcessing.custom_pptk(pcd[:, :3], pcd[:, 4:], ids)"
   ],
   "metadata": {
    "collapsed": false,
    "pycharm": {
     "name": "#%%\n"
    }
   }
  }
 ],
 "metadata": {
  "kernelspec": {
   "display_name": "Python 3",
   "language": "python",
   "name": "python3"
  },
  "language_info": {
   "codemirror_mode": {
    "name": "ipython",
    "version": 3
   },
   "file_extension": ".py",
   "mimetype": "text/x-python",
   "name": "python",
   "nbconvert_exporter": "python",
   "pygments_lexer": "ipython3",
   "version": "3.7.10"
  }
 },
 "nbformat": 4,
 "nbformat_minor": 0
}