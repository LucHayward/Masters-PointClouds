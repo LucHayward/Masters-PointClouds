{
 "cells": [
  {
   "cell_type": "code",
   "execution_count": 2,
   "metadata": {
    "collapsed": true
   },
   "outputs": [],
   "source": [
    "import DataProcessing\n",
    "from pathlib import Path\n",
    "import numpy as np\n",
    "from tqdm import tqdm\n",
    "import pptk\n",
    "import math\n"
   ]
  },
  {
   "cell_type": "code",
   "execution_count": 3,
   "metadata": {},
   "outputs": [
    {
     "name": "stdout",
     "output_type": "stream",
     "text": [
      "File: 10.33.47.ptx\n",
      "Rows: 5056\n",
      "Cols: 2150\n",
      "Total points: 10870400\n",
      "\n"
     ]
    }
   ],
   "source": [
    "pcd_tup = DataProcessing.load_from_ptx([Path('../../PatrickData/SongoMnara/10.33.47.ptx')])"
   ]
  },
  {
   "cell_type": "code",
   "execution_count": 4,
   "metadata": {},
   "outputs": [
    {
     "data": {
      "text/plain": [
       "(9015171, 7)"
      ]
     },
     "execution_count": 4,
     "metadata": {},
     "output_type": "execute_result"
    }
   ],
   "source": [
    "pcd = np.hstack((pcd_tup[0], pcd_tup[1][:, None], pcd_tup[2][:, 1:], pcd_tup[2][:, 0][:, None]))\n",
    "pcd.shape"
   ]
  },
  {
   "cell_type": "code",
   "execution_count": 5,
   "metadata": {},
   "outputs": [],
   "source": [
    "# pcd_dtype = [('x', np.float64),('y', np.float64),('z', np.float64),('i', np.float64),('g', np.float64),('b', np.float64),('class', np.float64),]\n",
    "# pcd.dtype = pcd_dtype"
   ]
  },
  {
   "cell_type": "code",
   "execution_count": 6,
   "metadata": {},
   "outputs": [],
   "source": [
    "pcd_copy = pcd.copy()"
   ]
  },
  {
   "cell_type": "code",
   "execution_count": 7,
   "metadata": {},
   "outputs": [],
   "source": [
    "pcd = pcd_copy.copy()"
   ]
  },
  {
   "cell_type": "code",
   "execution_count": 11,
   "metadata": {},
   "outputs": [],
   "source": [
    "split_indices = np.arange(0, pcd.shape[0], pcd.shape[0] // 10)[1:]"
   ]
  },
  {
   "cell_type": "code",
   "execution_count": 1,
   "metadata": {},
   "outputs": [
    {
     "ename": "NameError",
     "evalue": "name 'pcd' is not defined",
     "output_type": "error",
     "traceback": [
      "\u001B[0;31m---------------------------------------------------------------------------\u001B[0m",
      "\u001B[0;31mNameError\u001B[0m                                 Traceback (most recent call last)",
      "\u001B[0;32m/tmp/ipykernel_485894/3303143529.py\u001B[0m in \u001B[0;36m<module>\u001B[0;34m\u001B[0m\n\u001B[0;32m----> 1\u001B[0;31m \u001B[0mpcd\u001B[0m\u001B[0;34m.\u001B[0m\u001B[0msort\u001B[0m\u001B[0;34m(\u001B[0m\u001B[0maxis\u001B[0m\u001B[0;34m=\u001B[0m\u001B[0;36m0\u001B[0m\u001B[0;34m)\u001B[0m\u001B[0;34m\u001B[0m\u001B[0;34m\u001B[0m\u001B[0m\n\u001B[0m\u001B[1;32m      2\u001B[0m \u001B[0mpcd\u001B[0m \u001B[0;34m=\u001B[0m \u001B[0mnp\u001B[0m\u001B[0;34m.\u001B[0m\u001B[0marray_split\u001B[0m\u001B[0;34m(\u001B[0m\u001B[0mpcd\u001B[0m\u001B[0;34m,\u001B[0m \u001B[0msplit_indices\u001B[0m\u001B[0;34m)\u001B[0m\u001B[0;34m\u001B[0m\u001B[0;34m\u001B[0m\u001B[0m\n\u001B[1;32m      3\u001B[0m \u001B[0;34m\u001B[0m\u001B[0m\n",
      "\u001B[0;31mNameError\u001B[0m: name 'pcd' is not defined"
     ]
    }
   ],
   "source": [
    "pcd.view('f8,f8,f8,f8,f8,f8,f8').sort(order=['f0'], axis=0)\n",
    "pcd = np.array_split(pcd, split_indices)"
   ]
  },
  {
   "cell_type": "code",
   "execution_count": 14,
   "metadata": {},
   "outputs": [
    {
     "data": {
      "text/plain": [
       "(901517, 7)"
      ]
     },
     "execution_count": 14,
     "metadata": {},
     "output_type": "execute_result"
    }
   ],
   "source": [
    "pcd[0].shape"
   ]
  },
  {
   "cell_type": "code",
   "execution_count": 15,
   "metadata": {},
   "outputs": [
    {
     "name": "stderr",
     "output_type": "stream",
     "text": [
      "100%|██████████| 11/11 [00:00<00:00, 51.99it/s]\n"
     ]
    }
   ],
   "source": [
    "\n",
    "for i, col in enumerate(tqdm(pcd)):\n",
    "    col = col.view('f8,f8,f8,f8,f8,f8,f8').sort(order=['f1'], axis=1)"
   ]
  },
  {
   "cell_type": "code",
   "execution_count": 16,
   "metadata": {},
   "outputs": [],
   "source": [
    "pcd = np.vstack((pcd))"
   ]
  },
  {
   "cell_type": "code",
   "execution_count": 53,
   "metadata": {},
   "outputs": [
    {
     "data": {
      "text/plain": [
       "True"
      ]
     },
     "execution_count": 53,
     "metadata": {},
     "output_type": "execute_result"
    }
   ],
   "source": [
    "# DataProcessing.is_increasing(pcd[:,0])"
   ]
  },
  {
   "cell_type": "code",
   "execution_count": 54,
   "metadata": {},
   "outputs": [
    {
     "data": {
      "text/plain": [
       "False"
      ]
     },
     "execution_count": 54,
     "metadata": {},
     "output_type": "execute_result"
    }
   ],
   "source": [
    "# DataProcessing.is_increasing(pcd[:,1])"
   ]
  },
  {
   "cell_type": "code",
   "execution_count": 17,
   "metadata": {},
   "outputs": [],
   "source": [
    "\n",
    "grid_mask = np.repeat(np.arange(0, 10, 1), math.ceil(9015171 / 10))[:pcd.shape[0], None]"
   ]
  },
  {
   "cell_type": "code",
   "execution_count": 73,
   "metadata": {},
   "outputs": [],
   "source": [
    "pcd = np.hstack((pcd, grid_mask))"
   ]
  },
  {
   "cell_type": "code",
   "execution_count": null,
   "metadata": {},
   "outputs": [],
   "source": [
    "num_points = 1024\n",
    "num_cells = 10\n",
    "value_range = 100\n",
    "a = np.random.randint(0,value_range,(num_points,3))\n",
    "\n",
    "total_distances = a.max(axis=0)-a.min(axis=0)\n",
    "intervals = np.asarray([(a.min(axis=0) + total_distances//num_cells*i) for i in range(num_cells)])\n",
    "\n",
    "a.view('i8,i8,i8').sort(order=['f0'], axis=0)\n",
    "interval_idxs_x = [DataProcessing.find_nearest_id(a[:, 0], v) for v in intervals[:-1,0]]\n",
    "\n",
    "\n",
    "# split_indices = np.arange(0, a.shape[0], a.shape[0] // num_cells)[1:]\n",
    "\n",
    "# grid_mask = np.repeat(np.arange(0, num_cells, 1), math.ceil(num_points / num_cells))[:num_points]\n",
    "\n",
    "a = np.array_split(a, split_indices)\n",
    "for i, col in enumerate(tqdm(a)):\n",
    "    col = col.view('i8,i8,i8').sort(order=['f1'], axis=0)\n",
    "a = np.vstack(a)\n",
    "\n",
    "a = np.hstack((a,grid_mask[:,None]))\n",
    "\n",
    "v=pptk.viewer(a[:,:3],a[:,3])\n",
    "v.set(point_size=.1)"
   ]
  }
 ],
 "metadata": {
  "kernelspec": {
   "display_name": "Python 3",
   "language": "python",
   "name": "python3"
  },
  "language_info": {
   "codemirror_mode": {
    "name": "ipython",
    "version": 3
   },
   "file_extension": ".py",
   "mimetype": "text/x-python",
   "name": "python",
   "nbconvert_exporter": "python",
   "pygments_lexer": "ipython3",
   "version": "3.7.10"
  }
 },
 "nbformat": 4,
 "nbformat_minor": 0
}