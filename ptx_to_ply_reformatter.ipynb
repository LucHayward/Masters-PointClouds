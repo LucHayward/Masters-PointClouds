{
 "cells": [
  {
   "cell_type": "code",
   "execution_count": null,
   "metadata": {
    "collapsed": true
   },
   "outputs": [],
   "source": [
    "import DataProcessing\n",
    "from pathlib import Path\n",
    "import numpy as np\n",
    "from tqdm import tqdm\n",
    "import pptk\n",
    "import math"
   ]
  },
  {
   "cell_type": "code",
   "execution_count": null,
   "outputs": [],
   "source": [
    "ptx_file_list = [\n",
    "    Path('../../PatrickData/Church/m1_clean.ptx'),\n",
    "    Path('../../PatrickData/Church/m2_clean.ptx'),\n",
    "    Path('../../PatrickData/Church/m3_clean.ptx'),\n",
    "    Path('../../PatrickData/Church/m4_clean.ptx'),\n",
    "    Path('../../PatrickData/Church/m5_clean.ptx'),\n",
    "    Path('../../PatrickData/Church/m6_clean.ptx'),\n",
    "    Path('../../PatrickData/Church/m7_clean.ptx'),\n",
    "    Path('../../PatrickData/Church/m8_clean.ptx'),\n",
    "    Path('../../PatrickData/Church/m9_clean.ptx'),\n",
    "    Path('../../PatrickData/Church/m10_clean.ptx'),\n",
    "    Path('../../PatrickData/Church/m11_clean.ptx'),\n",
    "    Path('../../PatrickData/Church/m12_clean.ptx'),\n",
    "    Path('../../PatrickData/Church/m26_clean.ptx'),\n",
    "    Path('../../PatrickData/Church/m27_clean.ptx'),\n",
    "    Path('../../PatrickData/Church/m28_clean.ptx'),\n",
    "\n",
    "    Path('../../PatrickData/SongoMnara/10.33.47.ptx'),\n",
    "    Path('../../PatrickData/SongoMnara/10.37.24.ptx'),\n",
    "    Path('../../PatrickData/SongoMnara/10.41.05.ptx'),\n",
    "    Path('../../PatrickData/SongoMnara/10.45.01.ptx'),\n",
    "    Path('../../PatrickData/SongoMnara/10.49.56.ptx'),\n",
    "    Path('../../PatrickData/SongoMnara/10.54.11.ptx'),\n",
    "    Path('../../PatrickData/SongoMnara/10.58.22.ptx'),\n",
    "    Path('../../PatrickData/SongoMnara/11.02.29.ptx'),\n",
    "    Path('../../PatrickData/SongoMnara/11.06.17.ptx'),\n",
    "    Path('../../PatrickData/SongoMnara/11.10.10.ptx'),\n",
    "]\n",
    "ply_file_list = [\n",
    "    Path('../../PatrickData/Church/m1_clean.ply'),\n",
    "    Path('../../PatrickData/Church/m2_clean.ply'),\n",
    "    Path('../../PatrickData/Church/m3_clean.ply'),\n",
    "    Path('../../PatrickData/Church/m4_clean.ply'),\n",
    "    Path('../../PatrickData/Church/m5_clean.ply'),\n",
    "    Path('../../PatrickData/Church/m6_clean.ply'),\n",
    "    Path('../../PatrickData/Church/m7_clean.ply'),\n",
    "    Path('../../PatrickData/Church/m8_clean.ply'),\n",
    "    Path('../../PatrickData/Church/m9_clean.ply'),\n",
    "    Path('../../PatrickData/Church/m10_clean.ply'),\n",
    "    Path('../../PatrickData/Church/m11_clean.ply'),\n",
    "    Path('../../PatrickData/Church/m12_clean.ply'),\n",
    "    Path('../../PatrickData/Church/m26_clean.ply'),\n",
    "    Path('../../PatrickData/Church/m27_clean.ply'),\n",
    "    Path('../../PatrickData/Church/m28_clean.ply'),\n",
    "\n",
    "    Path('../../PatrickData/SongoMnara/10.33.47.ply'),\n",
    "    Path('../../PatrickData/SongoMnara/10.37.24.ply'),\n",
    "    Path('../../PatrickData/SongoMnara/10.41.05.ply'),\n",
    "    Path('../../PatrickData/SongoMnara/10.45.01.ply'),\n",
    "    Path('../../PatrickData/SongoMnara/10.49.56.ply'),\n",
    "    Path('../../PatrickData/SongoMnara/10.54.11.ply'),\n",
    "    Path('../../PatrickData/SongoMnara/10.58.22.ply'),\n",
    "    Path('../../PatrickData/SongoMnara/11.02.29.ply'),\n",
    "    Path('../../PatrickData/SongoMnara/11.06.17.ply'),\n",
    "    Path('../../PatrickData/SongoMnara/11.10.10.ply'),\n",
    "]\n",
    "\n",
    "for i in tqdm(range(len(ptx_file_list))):\n",
    "    pcd_tup = DataProcessing.load_from_ptx([ptx_file_list[i]])\n",
    "    DataProcessing.save_to_ply(ply_file_list[i],\n",
    "                               DataProcessing.convert_to_pointcloud(pcd_tup[0], pcd_tup[1], pcd_tup[2]))"
   ],
   "metadata": {
    "collapsed": false,
    "pycharm": {
     "name": "#%%\n"
    }
   }
  }
 ],
 "metadata": {
  "kernelspec": {
   "display_name": "Python 3",
   "language": "python",
   "name": "python3"
  },
  "language_info": {
   "codemirror_mode": {
    "name": "ipython",
    "version": 2
   },
   "file_extension": ".py",
   "mimetype": "text/x-python",
   "name": "python",
   "nbconvert_exporter": "python",
   "pygments_lexer": "ipython2",
   "version": "2.7.6"
  }
 },
 "nbformat": 4,
 "nbformat_minor": 0
}