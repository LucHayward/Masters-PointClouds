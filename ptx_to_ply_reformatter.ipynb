{
 "cells": [
  {
   "cell_type": "markdown",
   "source": [
    "Convert a list of ptx files one by one into a corresponding set of ply files++"
   ],
   "metadata": {
    "collapsed": false,
    "pycharm": {
     "name": "#%% md\n"
    }
   }
  },
  {
   "cell_type": "code",
   "execution_count": 1,
   "metadata": {
    "collapsed": true
   },
   "outputs": [
    {
     "name": "stdout",
     "output_type": "stream",
     "text": [
      "Jupyter environment detected. Enabling Open3D WebVisualizer.\n",
      "[Open3D INFO] WebRTC GUI backend enabled.\n",
      "[Open3D INFO] WebRTCWindowSystem: HTTP handshake server disabled.\n"
     ]
    },
    {
     "name": "stderr",
     "output_type": "stream",
     "text": [
      "INFO - 2021-11-23 19:24:31,660 - utils - NumExpr defaulting to 4 threads.\n"
     ]
    }
   ],
   "source": [
    "import DataProcessing\n",
    "from pathlib import Path\n",
    "import numpy as np\n",
    "from tqdm import tqdm\n",
    "import pptk\n",
    "import math"
   ]
  },
  {
   "cell_type": "code",
   "execution_count": 2,
   "outputs": [],
   "source": [
    "ptx_file_list = [\n",
    "    Path('../../PatrickData/Church/m1_clean.ptx'),\n",
    "    Path('../../PatrickData/Church/m2_clean.ptx'),\n",
    "    Path('../../PatrickData/Church/m3_clean.ptx'),\n",
    "    Path('../../PatrickData/Church/m4_clean.ptx'),\n",
    "    Path('../../PatrickData/Church/m5_clean.ptx'),\n",
    "    Path('../../PatrickData/Church/m6_clean.ptx'),\n",
    "    Path('../../PatrickData/Church/m7_clean.ptx'),\n",
    "    Path('../../PatrickData/Church/m8_clean.ptx'),\n",
    "    Path('../../PatrickData/Church/m9_clean.ptx'),\n",
    "    Path('../../PatrickData/Church/m10_clean.ptx'),\n",
    "    Path('../../PatrickData/Church/m11_clean.ptx'),\n",
    "    Path('../../PatrickData/Church/m12_clean.ptx'),\n",
    "    Path('../../PatrickData/Church/m26_clean.ptx'),\n",
    "    Path('../../PatrickData/Church/m27_clean.ptx'),\n",
    "    Path('../../PatrickData/Church/m28_clean.ptx'),\n",
    "\n",
    "    Path('../../PatrickData/SongoMnara/10.33.47.ptx'),\n",
    "    Path('../../PatrickData/SongoMnara/10.37.24.ptx'),\n",
    "    Path('../../PatrickData/SongoMnara/10.41.05.ptx'),\n",
    "    Path('../../PatrickData/SongoMnara/10.45.01.ptx'),\n",
    "    Path('../../PatrickData/SongoMnara/10.49.56.ptx'),\n",
    "    Path('../../PatrickData/SongoMnara/10.54.11.ptx'),\n",
    "    Path('../../PatrickData/SongoMnara/10.58.22.ptx'),\n",
    "    Path('../../PatrickData/SongoMnara/11.02.29.ptx'),\n",
    "    Path('../../PatrickData/SongoMnara/11.06.17.ptx'),\n",
    "    Path('../../PatrickData/SongoMnara/11.10.10.ptx'),\n",
    "]\n",
    "ply_file_list = [\n",
    "    Path('../../PatrickData/Church/m1_clean.ply'),\n",
    "    Path('../../PatrickData/Church/m2_clean.ply'),\n",
    "    Path('../../PatrickData/Church/m3_clean.ply'),\n",
    "    Path('../../PatrickData/Church/m4_clean.ply'),\n",
    "    Path('../../PatrickData/Church/m5_clean.ply'),\n",
    "    Path('../../PatrickData/Church/m6_clean.ply'),\n",
    "    Path('../../PatrickData/Church/m7_clean.ply'),\n",
    "    Path('../../PatrickData/Church/m8_clean.ply'),\n",
    "    Path('../../PatrickData/Church/m9_clean.ply'),\n",
    "    Path('../../PatrickData/Church/m10_clean.ply'),\n",
    "    Path('../../PatrickData/Church/m11_clean.ply'),\n",
    "    Path('../../PatrickData/Church/m12_clean.ply'),\n",
    "    Path('../../PatrickData/Church/m26_clean.ply'),\n",
    "    Path('../../PatrickData/Church/m27_clean.ply'),\n",
    "    Path('../../PatrickData/Church/m28_clean.ply'),\n",
    "\n",
    "    Path('../../PatrickData/SongoMnara/10.33.47.ply'),\n",
    "    Path('../../PatrickData/SongoMnara/10.37.24.ply'),\n",
    "    Path('../../PatrickData/SongoMnara/10.41.05.ply'),\n",
    "    Path('../../PatrickData/SongoMnara/10.45.01.ply'),\n",
    "    Path('../../PatrickData/SongoMnara/10.49.56.ply'),\n",
    "    Path('../../PatrickData/SongoMnara/10.54.11.ply'),\n",
    "    Path('../../PatrickData/SongoMnara/10.58.22.ply'),\n",
    "    Path('../../PatrickData/SongoMnara/11.02.29.ply'),\n",
    "    Path('../../PatrickData/SongoMnara/11.06.17.ply'),\n",
    "    Path('../../PatrickData/SongoMnara/11.10.10.ply'),\n",
    "]"
   ],
   "metadata": {
    "collapsed": false,
    "pycharm": {
     "name": "#%%\n"
    }
   }
  },
  {
   "cell_type": "code",
   "execution_count": 3,
   "outputs": [
    {
     "name": "stderr",
     "output_type": "stream",
     "text": [
      "  0%|          | 0/25 [00:00<?, ?it/s]"
     ]
    },
    {
     "name": "stdout",
     "output_type": "stream",
     "text": [
      "File: m1_clean.ptx\n",
      "Rows: 1910\n",
      "Cols: 862\n",
      "Total points: 1646420\n",
      "Remaining points: 1590266\n",
      "\n"
     ]
    },
    {
     "name": "stderr",
     "output_type": "stream",
     "text": [
      "  4%|▍         | 1/25 [00:12<04:48, 12.01s/it]"
     ]
    },
    {
     "name": "stdout",
     "output_type": "stream",
     "text": [
      "File: m2_clean.ptx\n",
      "Rows: 1910\n",
      "Cols: 862\n",
      "Total points: 1646420\n",
      "Remaining points: 1599308\n",
      "\n"
     ]
    },
    {
     "name": "stderr",
     "output_type": "stream",
     "text": [
      "  8%|▊         | 2/25 [00:23<04:32, 11.84s/it]"
     ]
    },
    {
     "name": "stdout",
     "output_type": "stream",
     "text": [
      "File: m3_clean.ptx\n",
      "Rows: 1911\n",
      "Cols: 862\n",
      "Total points: 1647282\n",
      "Remaining points: 1635823\n",
      "\n"
     ]
    },
    {
     "name": "stderr",
     "output_type": "stream",
     "text": [
      " 12%|█▏        | 3/25 [00:35<04:18, 11.74s/it]"
     ]
    },
    {
     "name": "stdout",
     "output_type": "stream",
     "text": [
      "File: m4_clean.ptx\n",
      "Rows: 1911\n",
      "Cols: 862\n",
      "Total points: 1647282\n",
      "Remaining points: 1638314\n",
      "\n"
     ]
    },
    {
     "name": "stderr",
     "output_type": "stream",
     "text": [
      " 16%|█▌        | 4/25 [00:46<04:05, 11.70s/it]"
     ]
    },
    {
     "name": "stdout",
     "output_type": "stream",
     "text": [
      "File: m5_clean.ptx\n",
      "Rows: 1911\n",
      "Cols: 862\n",
      "Total points: 1647282\n",
      "Remaining points: 1638822\n",
      "\n"
     ]
    },
    {
     "name": "stderr",
     "output_type": "stream",
     "text": [
      " 20%|██        | 5/25 [00:58<03:54, 11.72s/it]"
     ]
    },
    {
     "name": "stdout",
     "output_type": "stream",
     "text": [
      "File: m6_clean.ptx\n",
      "Rows: 1912\n",
      "Cols: 862\n",
      "Total points: 1648144\n",
      "Remaining points: 1639876\n",
      "\n"
     ]
    },
    {
     "name": "stderr",
     "output_type": "stream",
     "text": [
      " 24%|██▍       | 6/25 [01:10<03:42, 11.71s/it]"
     ]
    },
    {
     "name": "stdout",
     "output_type": "stream",
     "text": [
      "File: m7_clean.ptx\n",
      "Rows: 1911\n",
      "Cols: 862\n",
      "Total points: 1647282\n",
      "Remaining points: 1632275\n",
      "\n"
     ]
    },
    {
     "name": "stderr",
     "output_type": "stream",
     "text": [
      " 28%|██▊       | 7/25 [01:22<03:30, 11.67s/it]"
     ]
    },
    {
     "name": "stdout",
     "output_type": "stream",
     "text": [
      "File: m8_clean.ptx\n",
      "Rows: 1912\n",
      "Cols: 862\n",
      "Total points: 1648144\n",
      "Remaining points: 1628677\n",
      "\n"
     ]
    },
    {
     "name": "stderr",
     "output_type": "stream",
     "text": [
      " 32%|███▏      | 8/25 [01:33<03:18, 11.70s/it]"
     ]
    },
    {
     "name": "stdout",
     "output_type": "stream",
     "text": [
      "File: m9_clean.ptx\n",
      "Rows: 1911\n",
      "Cols: 862\n",
      "Total points: 1647282\n",
      "Remaining points: 1638163\n",
      "\n"
     ]
    },
    {
     "name": "stderr",
     "output_type": "stream",
     "text": [
      " 36%|███▌      | 9/25 [01:45<03:06, 11.66s/it]"
     ]
    },
    {
     "name": "stdout",
     "output_type": "stream",
     "text": [
      "File: m10_clean.ptx\n",
      "Rows: 1912\n",
      "Cols: 862\n",
      "Total points: 1648144\n",
      "Remaining points: 1637828\n",
      "\n"
     ]
    },
    {
     "name": "stderr",
     "output_type": "stream",
     "text": [
      " 40%|████      | 10/25 [01:57<02:55, 11.71s/it]"
     ]
    },
    {
     "name": "stdout",
     "output_type": "stream",
     "text": [
      "File: m11_clean.ptx\n",
      "Rows: 1913\n",
      "Cols: 862\n",
      "Total points: 1649006\n",
      "Remaining points: 1635062\n",
      "\n"
     ]
    },
    {
     "name": "stderr",
     "output_type": "stream",
     "text": [
      " 44%|████▍     | 11/25 [02:08<02:44, 11.73s/it]"
     ]
    },
    {
     "name": "stdout",
     "output_type": "stream",
     "text": [
      "File: m12_clean.ptx\n",
      "Rows: 1912\n",
      "Cols: 862\n",
      "Total points: 1648144\n",
      "Remaining points: 1630891\n",
      "\n"
     ]
    },
    {
     "name": "stderr",
     "output_type": "stream",
     "text": [
      " 48%|████▊     | 12/25 [02:20<02:32, 11.75s/it]"
     ]
    },
    {
     "name": "stdout",
     "output_type": "stream",
     "text": [
      "File: m26_clean.ptx\n",
      "Rows: 1912\n",
      "Cols: 862\n",
      "Total points: 1648144\n",
      "Remaining points: 841686\n",
      "\n"
     ]
    },
    {
     "name": "stderr",
     "output_type": "stream",
     "text": [
      " 52%|█████▏    | 13/25 [02:32<02:20, 11.68s/it]"
     ]
    },
    {
     "name": "stdout",
     "output_type": "stream",
     "text": [
      "File: m27_clean.ptx\n",
      "Rows: 1912\n",
      "Cols: 862\n",
      "Total points: 1648144\n",
      "Remaining points: 887391\n",
      "\n"
     ]
    },
    {
     "name": "stderr",
     "output_type": "stream",
     "text": [
      " 56%|█████▌    | 14/25 [02:43<02:07, 11.59s/it]"
     ]
    },
    {
     "name": "stdout",
     "output_type": "stream",
     "text": [
      "File: m28_clean.ptx\n",
      "Rows: 1912\n",
      "Cols: 862\n",
      "Total points: 1648144\n"
     ]
    },
    {
     "name": "stderr",
     "output_type": "stream",
     "text": [
      " 60%|██████    | 15/25 [02:55<01:55, 11.53s/it]"
     ]
    },
    {
     "name": "stdout",
     "output_type": "stream",
     "text": [
      "Remaining points: 627846\n",
      "\n",
      "File: 10.33.47.ptx\n",
      "Rows: 5056\n",
      "Cols: 2150\n",
      "Total points: 10870400\n",
      "Remaining points: 9015171\n",
      "\n"
     ]
    },
    {
     "name": "stderr",
     "output_type": "stream",
     "text": [
      " 64%|██████▍   | 16/25 [04:09<04:34, 30.49s/it]"
     ]
    },
    {
     "name": "stdout",
     "output_type": "stream",
     "text": [
      "File: 10.37.24.ptx\n",
      "Rows: 5056\n",
      "Cols: 2019\n",
      "Total points: 10208064\n",
      "Remaining points: 7716162\n",
      "\n"
     ]
    },
    {
     "name": "stderr",
     "output_type": "stream",
     "text": [
      " 68%|██████▊   | 17/25 [05:20<05:40, 42.60s/it]"
     ]
    },
    {
     "name": "stdout",
     "output_type": "stream",
     "text": [
      "File: 10.41.05.ptx\n",
      "Rows: 5056\n",
      "Cols: 2150\n",
      "Total points: 10870400\n",
      "Remaining points: 9243464\n",
      "\n"
     ]
    },
    {
     "name": "stderr",
     "output_type": "stream",
     "text": [
      " 72%|███████▏  | 18/25 [06:36<06:08, 52.71s/it]"
     ]
    },
    {
     "name": "stdout",
     "output_type": "stream",
     "text": [
      "File: 10.45.01.ptx\n",
      "Rows: 5056\n",
      "Cols: 2151\n",
      "Total points: 10875456\n",
      "Remaining points: 9719563\n",
      "\n"
     ]
    },
    {
     "name": "stderr",
     "output_type": "stream",
     "text": [
      " 76%|███████▌  | 19/25 [07:53<05:59, 59.86s/it]"
     ]
    },
    {
     "name": "stdout",
     "output_type": "stream",
     "text": [
      "File: 10.49.56.ptx\n",
      "Rows: 5056\n",
      "Cols: 2150\n",
      "Total points: 10870400\n",
      "Remaining points: 8811049\n",
      "\n"
     ]
    },
    {
     "name": "stderr",
     "output_type": "stream",
     "text": [
      " 80%|████████  | 20/25 [09:09<05:23, 64.78s/it]"
     ]
    },
    {
     "name": "stdout",
     "output_type": "stream",
     "text": [
      "File: 10.54.11.ptx\n",
      "Rows: 5056\n",
      "Cols: 1607\n",
      "Total points: 8124992\n",
      "Remaining points: 5189511\n",
      "\n"
     ]
    },
    {
     "name": "stderr",
     "output_type": "stream",
     "text": [
      " 84%|████████▍ | 21/25 [10:05<04:08, 62.12s/it]"
     ]
    },
    {
     "name": "stdout",
     "output_type": "stream",
     "text": [
      "File: 10.58.22.ptx\n",
      "Rows: 5056\n",
      "Cols: 2150\n",
      "Total points: 10870400\n",
      "Remaining points: 8382455\n",
      "\n"
     ]
    },
    {
     "name": "stderr",
     "output_type": "stream",
     "text": [
      " 88%|████████▊ | 22/25 [11:20<03:17, 65.93s/it]"
     ]
    },
    {
     "name": "stdout",
     "output_type": "stream",
     "text": [
      "File: 11.02.29.ptx\n",
      "Rows: 5056\n",
      "Cols: 2095\n",
      "Total points: 10592320\n",
      "Remaining points: 7237335\n",
      "\n"
     ]
    },
    {
     "name": "stderr",
     "output_type": "stream",
     "text": [
      " 92%|█████████▏| 23/25 [12:34<02:16, 68.36s/it]"
     ]
    },
    {
     "name": "stdout",
     "output_type": "stream",
     "text": [
      "File: 11.06.17.ptx\n",
      "Rows: 5056\n",
      "Cols: 2107\n",
      "Total points: 10652992\n",
      "Remaining points: 8117643\n",
      "\n"
     ]
    },
    {
     "name": "stderr",
     "output_type": "stream",
     "text": [
      " 96%|█████████▌| 24/25 [13:48<01:10, 70.11s/it]"
     ]
    },
    {
     "name": "stdout",
     "output_type": "stream",
     "text": [
      "File: 11.10.10.ptx\n",
      "Rows: 5056\n",
      "Cols: 1866\n",
      "Total points: 9434496\n",
      "Remaining points: 5295439\n",
      "\n"
     ]
    },
    {
     "name": "stderr",
     "output_type": "stream",
     "text": [
      "100%|██████████| 25/25 [14:41<00:00, 35.26s/it]\n"
     ]
    }
   ],
   "source": [
    "for i in tqdm(range(len(ptx_file_list))):\n",
    "    pcd_tup = DataProcessing.load_from_ptx([ptx_file_list[i]])\n",
    "    DataProcessing.save_to_ply(ply_file_list[i],\n",
    "                               DataProcessing.convert_to_pointcloud(pcd_tup[0], pcd_tup[1], pcd_tup[2]))"
   ],
   "metadata": {
    "collapsed": false,
    "pycharm": {
     "name": "#%%\n"
    }
   }
  }
 ],
 "metadata": {
  "kernelspec": {
   "display_name": "Python 3",
   "language": "python",
   "name": "python3"
  },
  "language_info": {
   "codemirror_mode": {
    "name": "ipython",
    "version": 2
   },
   "file_extension": ".py",
   "mimetype": "text/x-python",
   "name": "python",
   "nbconvert_exporter": "python",
   "pygments_lexer": "ipython2",
   "version": "2.7.6"
  }
 },
 "nbformat": 4,
 "nbformat_minor": 0
}